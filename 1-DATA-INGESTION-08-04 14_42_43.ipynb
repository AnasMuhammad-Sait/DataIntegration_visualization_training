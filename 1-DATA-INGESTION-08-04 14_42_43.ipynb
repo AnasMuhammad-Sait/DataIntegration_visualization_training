{
 "cells": [
  {
   "cell_type": "code",
   "execution_count": 0,
   "metadata": {
    "application/vnd.databricks.v1+cell": {
     "cellMetadata": {
      "byteLimit": 2048000,
      "rowLimit": 10000
     },
     "inputWidgets": {},
     "nuid": "27f0b513-77cf-4cc2-92ec-1853f2b5e231",
     "showTitle": false,
     "tableResultSettingsMap": {},
     "title": ""
    }
   },
   "outputs": [],
   "source": [
    "# Step 1\n",
    "storage_account_name = \"dmodemoaccount123\"\n",
    "storage_account_key = \"\"  # Replace with actual key from Azure Portal\n",
    "\n",
    "# Step 2\n",
    "spark.conf.set(\n",
    "    f\"fs.azure.account.key.{storage_account_name}.dfs.core.windows.net\",\n",
    "    storage_account_key\n",
    ")"
   ]
  },
  {
   "cell_type": "code",
   "execution_count": 0,
   "metadata": {
    "application/vnd.databricks.v1+cell": {
     "cellMetadata": {
      "byteLimit": 2048000,
      "rowLimit": 10000
     },
     "inputWidgets": {},
     "nuid": "958463b5-332f-412d-90b4-1ce941e9e7da",
     "showTitle": false,
     "tableResultSettingsMap": {},
     "title": ""
    }
   },
   "outputs": [],
   "source": [
    "sourceCSVFileURL=\"https://retailpricing.blob.core.windows.net/daily-pricing\"\n",
    "bronzelayerCSVFilePath=\"abfss://working-labs@dmodemoaccount123.dfs.core.windows.net/bronze/daily-pricing/csv\""
   ]
  },
  {
   "cell_type": "code",
   "execution_count": 0,
   "metadata": {
    "application/vnd.databricks.v1+cell": {
     "cellMetadata": {
      "byteLimit": 2048000,
      "rowLimit": 10000
     },
     "inputWidgets": {},
     "nuid": "5e52146b-09af-45db-91ad-b78d8062fde8",
     "showTitle": false,
     "tableResultSettingsMap": {},
     "title": ""
    }
   },
   "outputs": [],
   "source": [
    "dailyPricingSourceBaseURL=\"https://retailpricing.blob.core.windows.net/\"\n",
    "dailyPricingSourceFolder=\"daily-pricing/\"\n",
    "dailyPricingSourceFileName=\"PW_MW_DR_01012023.csv\"\n",
    "\n",
    "dailyPricingSinkLayerName=\"bronze\"\n",
    "dailyPricingSinkStorageAccountName=storage_account_name\n",
    "dailyPricingSinkFolderName=\"daily-pricing\""
   ]
  },
  {
   "cell_type": "code",
   "execution_count": 0,
   "metadata": {
    "application/vnd.databricks.v1+cell": {
     "cellMetadata": {
      "byteLimit": 2048000,
      "rowLimit": 10000
     },
     "inputWidgets": {},
     "nuid": "126284d3-ac78-47e4-9dc0-cfcb1b80ee50",
     "showTitle": false,
     "tableResultSettingsMap": {},
     "title": ""
    }
   },
   "outputs": [],
   "source": [
    "import pandas as pds"
   ]
  },
  {
   "cell_type": "code",
   "execution_count": 0,
   "metadata": {
    "application/vnd.databricks.v1+cell": {
     "cellMetadata": {
      "byteLimit": 2048000,
      "rowLimit": 10000
     },
     "inputWidgets": {},
     "nuid": "bf0e96e6-14ec-46a1-8708-79e29427466a",
     "showTitle": false,
     "tableResultSettingsMap": {},
     "title": ""
    }
   },
   "outputs": [
    {
     "name": "stdout",
     "output_type": "stream",
     "text": [
      "https://retailpricing.blob.core.windows.net/daily-pricing/PW_MW_DR_01012023.csv\n"
     ]
    }
   ],
   "source": [
    "dailyPricingSourceURL=dailyPricingSourceBaseURL+dailyPricingSourceFolder+dailyPricingSourceFileName\n",
    "print(dailyPricingSourceURL)"
   ]
  },
  {
   "cell_type": "code",
   "execution_count": 0,
   "metadata": {
    "application/vnd.databricks.v1+cell": {
     "cellMetadata": {
      "byteLimit": 2048000,
      "rowLimit": 10000
     },
     "inputWidgets": {},
     "nuid": "2fd6b7fa-8dd7-4234-b6c9-1a98c126be4e",
     "showTitle": false,
     "tableResultSettingsMap": {},
     "title": ""
    }
   },
   "outputs": [
    {
     "data": {
      "text/html": [
       "<div>\n",
       "<style scoped>\n",
       "    .dataframe tbody tr th:only-of-type {\n",
       "        vertical-align: middle;\n",
       "    }\n",
       "\n",
       "    .dataframe tbody tr th {\n",
       "        vertical-align: top;\n",
       "    }\n",
       "\n",
       "    .dataframe thead th {\n",
       "        text-align: right;\n",
       "    }\n",
       "</style>\n",
       "<table border=\"1\" class=\"dataframe\">\n",
       "  <thead>\n",
       "    <tr style=\"text-align: right;\">\n",
       "      <th></th>\n",
       "      <th>DATE_OF_PRICING</th>\n",
       "      <th>ROW_ID</th>\n",
       "      <th>STATE_NAME</th>\n",
       "      <th>MARKET_NAME</th>\n",
       "      <th>PRODUCTGROUP_NAME</th>\n",
       "      <th>PRODUCT_NAME</th>\n",
       "      <th>VARIETY</th>\n",
       "      <th>ORIGIN</th>\n",
       "      <th>ARRIVAL_IN_TONNES</th>\n",
       "      <th>MINIMUM_PRICE</th>\n",
       "      <th>MAXIMUM_PRICE</th>\n",
       "      <th>MODAL_PRICE</th>\n",
       "    </tr>\n",
       "  </thead>\n",
       "  <tbody>\n",
       "    <tr>\n",
       "      <th>0</th>\n",
       "      <td>01/01/2023</td>\n",
       "      <td>12699</td>\n",
       "      <td>Uttar Pradesh</td>\n",
       "      <td>Najibabad</td>\n",
       "      <td>Fruits</td>\n",
       "      <td>Raddish</td>\n",
       "      <td>Raddish</td>\n",
       "      <td>NR</td>\n",
       "      <td>23</td>\n",
       "      <td>250</td>\n",
       "      <td>350</td>\n",
       "      <td>300.0</td>\n",
       "    </tr>\n",
       "    <tr>\n",
       "      <th>1</th>\n",
       "      <td>01/01/2023</td>\n",
       "      <td>12711</td>\n",
       "      <td>Uttar Pradesh</td>\n",
       "      <td>Sahiyapur</td>\n",
       "      <td>Fruits</td>\n",
       "      <td>Raddish</td>\n",
       "      <td>Raddish</td>\n",
       "      <td>NR</td>\n",
       "      <td>2.6</td>\n",
       "      <td>330</td>\n",
       "      <td>415</td>\n",
       "      <td>370.0</td>\n",
       "    </tr>\n",
       "    <tr>\n",
       "      <th>2</th>\n",
       "      <td>01/01/2023</td>\n",
       "      <td>12723</td>\n",
       "      <td>Uttar Pradesh</td>\n",
       "      <td>Ujhani</td>\n",
       "      <td>Fruits</td>\n",
       "      <td>Raddish</td>\n",
       "      <td>Other</td>\n",
       "      <td>NR</td>\n",
       "      <td>0.6</td>\n",
       "      <td>450</td>\n",
       "      <td>550</td>\n",
       "      <td>500.0</td>\n",
       "    </tr>\n",
       "    <tr>\n",
       "      <th>3</th>\n",
       "      <td>01/01/2023</td>\n",
       "      <td>12735</td>\n",
       "      <td>Uttrakhand</td>\n",
       "      <td>Rudrapur</td>\n",
       "      <td>Fruits</td>\n",
       "      <td>Raddish</td>\n",
       "      <td>Other</td>\n",
       "      <td>NR</td>\n",
       "      <td>2.5</td>\n",
       "      <td>100</td>\n",
       "      <td>300</td>\n",
       "      <td>200.0</td>\n",
       "    </tr>\n",
       "    <tr>\n",
       "      <th>4</th>\n",
       "      <td>01/01/2023</td>\n",
       "      <td>12759</td>\n",
       "      <td>Kerala</td>\n",
       "      <td>Manjeswaram</td>\n",
       "      <td>Fruits</td>\n",
       "      <td>Ridge gourd(Tori)</td>\n",
       "      <td>Ridgeguard(Tori)</td>\n",
       "      <td>NR</td>\n",
       "      <td>5</td>\n",
       "      <td>3400</td>\n",
       "      <td>4400</td>\n",
       "      <td>3900.0</td>\n",
       "    </tr>\n",
       "    <tr>\n",
       "      <th>...</th>\n",
       "      <td>...</td>\n",
       "      <td>...</td>\n",
       "      <td>...</td>\n",
       "      <td>...</td>\n",
       "      <td>...</td>\n",
       "      <td>...</td>\n",
       "      <td>...</td>\n",
       "      <td>...</td>\n",
       "      <td>...</td>\n",
       "      <td>...</td>\n",
       "      <td>...</td>\n",
       "      <td>...</td>\n",
       "    </tr>\n",
       "    <tr>\n",
       "      <th>12872</th>\n",
       "      <td>01/01/2023</td>\n",
       "      <td>12753</td>\n",
       "      <td>Karnataka</td>\n",
       "      <td>Hospet</td>\n",
       "      <td>Fruits</td>\n",
       "      <td>Ridge gourd(Tori)</td>\n",
       "      <td>Ridgeguard(Tori)</td>\n",
       "      <td>NR</td>\n",
       "      <td>2</td>\n",
       "      <td>1200</td>\n",
       "      <td>1400</td>\n",
       "      <td>1300.0</td>\n",
       "    </tr>\n",
       "    <tr>\n",
       "      <th>12873</th>\n",
       "      <td>01/01/2023</td>\n",
       "      <td>12765</td>\n",
       "      <td>Maharashtra</td>\n",
       "      <td>Mumbai</td>\n",
       "      <td>Fruits</td>\n",
       "      <td>Ridge gourd(Tori)</td>\n",
       "      <td>Other</td>\n",
       "      <td>NR</td>\n",
       "      <td>19</td>\n",
       "      <td>2000</td>\n",
       "      <td>2600</td>\n",
       "      <td>2300.0</td>\n",
       "    </tr>\n",
       "    <tr>\n",
       "      <th>12874</th>\n",
       "      <td>01/01/2023</td>\n",
       "      <td>12777</td>\n",
       "      <td>West Bengal</td>\n",
       "      <td>Balarampur</td>\n",
       "      <td>Fruits</td>\n",
       "      <td>Ridge gourd(Tori)</td>\n",
       "      <td>Other</td>\n",
       "      <td>NR</td>\n",
       "      <td>0.04</td>\n",
       "      <td>3000</td>\n",
       "      <td>3100</td>\n",
       "      <td>3050.0</td>\n",
       "    </tr>\n",
       "    <tr>\n",
       "      <th>12875</th>\n",
       "      <td>01/01/2023</td>\n",
       "      <td>12789</td>\n",
       "      <td>Himachal Pradesh</td>\n",
       "      <td>Mandi(Takoli)</td>\n",
       "      <td>Fruits</td>\n",
       "      <td>Season Leaves</td>\n",
       "      <td>Other</td>\n",
       "      <td>NR</td>\n",
       "      <td>0.1</td>\n",
       "      <td>500</td>\n",
       "      <td>700</td>\n",
       "      <td>600.0</td>\n",
       "    </tr>\n",
       "    <tr>\n",
       "      <th>12876</th>\n",
       "      <td>01/01/2023</td>\n",
       "      <td>12801</td>\n",
       "      <td>Karnataka</td>\n",
       "      <td>Mysore (Bandipalya)</td>\n",
       "      <td>Fruits</td>\n",
       "      <td>Seemebadnekai</td>\n",
       "      <td>Seemebadanekai</td>\n",
       "      <td>NR</td>\n",
       "      <td>6</td>\n",
       "      <td>500</td>\n",
       "      <td>700</td>\n",
       "      <td>600.0</td>\n",
       "    </tr>\n",
       "  </tbody>\n",
       "</table>\n",
       "<p>12877 rows × 12 columns</p>\n",
       "</div>"
      ],
      "text/plain": [
       "      DATE_OF_PRICING  ROW_ID  ... MAXIMUM_PRICE MODAL_PRICE\n",
       "0          01/01/2023   12699  ...           350       300.0\n",
       "1          01/01/2023   12711  ...           415       370.0\n",
       "2          01/01/2023   12723  ...           550       500.0\n",
       "3          01/01/2023   12735  ...           300       200.0\n",
       "4          01/01/2023   12759  ...          4400      3900.0\n",
       "...               ...     ...  ...           ...         ...\n",
       "12872      01/01/2023   12753  ...          1400      1300.0\n",
       "12873      01/01/2023   12765  ...          2600      2300.0\n",
       "12874      01/01/2023   12777  ...          3100      3050.0\n",
       "12875      01/01/2023   12789  ...           700       600.0\n",
       "12876      01/01/2023   12801  ...           700       600.0\n",
       "\n",
       "[12877 rows x 12 columns]"
      ]
     },
     "execution_count": 23,
     "metadata": {},
     "output_type": "execute_result"
    }
   ],
   "source": [
    "pds.read_csv(dailyPricingSourceURL)\n"
   ]
  },
  {
   "cell_type": "code",
   "execution_count": 0,
   "metadata": {
    "application/vnd.databricks.v1+cell": {
     "cellMetadata": {
      "byteLimit": 2048000,
      "rowLimit": 10000
     },
     "inputWidgets": {},
     "nuid": "a05add1f-0507-482e-9cff-f33f9894504e",
     "showTitle": false,
     "tableResultSettingsMap": {},
     "title": ""
    }
   },
   "outputs": [
    {
     "data": {
      "text/html": [
       "<div>\n",
       "<style scoped>\n",
       "    .dataframe tbody tr th:only-of-type {\n",
       "        vertical-align: middle;\n",
       "    }\n",
       "\n",
       "    .dataframe tbody tr th {\n",
       "        vertical-align: top;\n",
       "    }\n",
       "\n",
       "    .dataframe thead th {\n",
       "        text-align: right;\n",
       "    }\n",
       "</style>\n",
       "<table border=\"1\" class=\"dataframe\">\n",
       "  <thead>\n",
       "    <tr style=\"text-align: right;\">\n",
       "      <th></th>\n",
       "      <th>DATE_OF_PRICING</th>\n",
       "      <th>ROW_ID</th>\n",
       "      <th>STATE_NAME</th>\n",
       "      <th>MARKET_NAME</th>\n",
       "      <th>PRODUCTGROUP_NAME</th>\n",
       "      <th>PRODUCT_NAME</th>\n",
       "      <th>VARIETY</th>\n",
       "      <th>ORIGIN</th>\n",
       "      <th>ARRIVAL_IN_TONNES</th>\n",
       "      <th>MINIMUM_PRICE</th>\n",
       "      <th>MAXIMUM_PRICE</th>\n",
       "      <th>MODAL_PRICE</th>\n",
       "    </tr>\n",
       "  </thead>\n",
       "  <tbody>\n",
       "    <tr>\n",
       "      <th>0</th>\n",
       "      <td>01/01/2023</td>\n",
       "      <td>12699</td>\n",
       "      <td>Uttar Pradesh</td>\n",
       "      <td>Najibabad</td>\n",
       "      <td>Fruits</td>\n",
       "      <td>Raddish</td>\n",
       "      <td>Raddish</td>\n",
       "      <td>NR</td>\n",
       "      <td>23</td>\n",
       "      <td>250</td>\n",
       "      <td>350</td>\n",
       "      <td>300.0</td>\n",
       "    </tr>\n",
       "    <tr>\n",
       "      <th>1</th>\n",
       "      <td>01/01/2023</td>\n",
       "      <td>12711</td>\n",
       "      <td>Uttar Pradesh</td>\n",
       "      <td>Sahiyapur</td>\n",
       "      <td>Fruits</td>\n",
       "      <td>Raddish</td>\n",
       "      <td>Raddish</td>\n",
       "      <td>NR</td>\n",
       "      <td>2.6</td>\n",
       "      <td>330</td>\n",
       "      <td>415</td>\n",
       "      <td>370.0</td>\n",
       "    </tr>\n",
       "    <tr>\n",
       "      <th>2</th>\n",
       "      <td>01/01/2023</td>\n",
       "      <td>12723</td>\n",
       "      <td>Uttar Pradesh</td>\n",
       "      <td>Ujhani</td>\n",
       "      <td>Fruits</td>\n",
       "      <td>Raddish</td>\n",
       "      <td>Other</td>\n",
       "      <td>NR</td>\n",
       "      <td>0.6</td>\n",
       "      <td>450</td>\n",
       "      <td>550</td>\n",
       "      <td>500.0</td>\n",
       "    </tr>\n",
       "    <tr>\n",
       "      <th>3</th>\n",
       "      <td>01/01/2023</td>\n",
       "      <td>12735</td>\n",
       "      <td>Uttrakhand</td>\n",
       "      <td>Rudrapur</td>\n",
       "      <td>Fruits</td>\n",
       "      <td>Raddish</td>\n",
       "      <td>Other</td>\n",
       "      <td>NR</td>\n",
       "      <td>2.5</td>\n",
       "      <td>100</td>\n",
       "      <td>300</td>\n",
       "      <td>200.0</td>\n",
       "    </tr>\n",
       "    <tr>\n",
       "      <th>4</th>\n",
       "      <td>01/01/2023</td>\n",
       "      <td>12759</td>\n",
       "      <td>Kerala</td>\n",
       "      <td>Manjeswaram</td>\n",
       "      <td>Fruits</td>\n",
       "      <td>Ridge gourd(Tori)</td>\n",
       "      <td>Ridgeguard(Tori)</td>\n",
       "      <td>NR</td>\n",
       "      <td>5</td>\n",
       "      <td>3400</td>\n",
       "      <td>4400</td>\n",
       "      <td>3900.0</td>\n",
       "    </tr>\n",
       "  </tbody>\n",
       "</table>\n",
       "</div>"
      ],
      "text/plain": [
       "  DATE_OF_PRICING  ROW_ID  ... MAXIMUM_PRICE MODAL_PRICE\n",
       "0      01/01/2023   12699  ...           350       300.0\n",
       "1      01/01/2023   12711  ...           415       370.0\n",
       "2      01/01/2023   12723  ...           550       500.0\n",
       "3      01/01/2023   12735  ...           300       200.0\n",
       "4      01/01/2023   12759  ...          4400      3900.0\n",
       "\n",
       "[5 rows x 12 columns]"
      ]
     },
     "execution_count": 24,
     "metadata": {},
     "output_type": "execute_result"
    }
   ],
   "source": [
    "dailyPricingPandasDF=pds.read_csv(dailyPricingSourceURL)\n",
    "dailyPricingPandasDF.head()"
   ]
  },
  {
   "cell_type": "code",
   "execution_count": 0,
   "metadata": {
    "application/vnd.databricks.v1+cell": {
     "cellMetadata": {
      "byteLimit": 2048000,
      "rowLimit": 10000
     },
     "inputWidgets": {},
     "nuid": "f3732935-db56-4c7f-9a69-24d782b04a52",
     "showTitle": false,
     "tableResultSettingsMap": {},
     "title": ""
    }
   },
   "outputs": [
    {
     "name": "stdout",
     "output_type": "stream",
     "text": [
      "root\n",
      " |-- DATE_OF_PRICING: string (nullable = true)\n",
      " |-- ROW_ID: long (nullable = true)\n",
      " |-- STATE_NAME: string (nullable = true)\n",
      " |-- MARKET_NAME: string (nullable = true)\n",
      " |-- PRODUCTGROUP_NAME: string (nullable = true)\n",
      " |-- PRODUCT_NAME: string (nullable = true)\n",
      " |-- VARIETY: string (nullable = true)\n",
      " |-- ORIGIN: string (nullable = true)\n",
      " |-- ARRIVAL_IN_TONNES: string (nullable = true)\n",
      " |-- MINIMUM_PRICE: string (nullable = true)\n",
      " |-- MAXIMUM_PRICE: string (nullable = true)\n",
      " |-- MODAL_PRICE: double (nullable = true)\n",
      "\n"
     ]
    }
   ],
   "source": [
    "dailyPricingSparkDF=spark.createDataFrame(dailyPricingPandasDF)\n",
    "dailyPricingSparkDF.printSchema()"
   ]
  },
  {
   "cell_type": "code",
   "execution_count": 0,
   "metadata": {
    "application/vnd.databricks.v1+cell": {
     "cellMetadata": {
      "byteLimit": 2048000,
      "rowLimit": 10000
     },
     "inputWidgets": {},
     "nuid": "876c2086-618a-4612-9bf9-63c4f1bb6321",
     "showTitle": false,
     "tableResultSettingsMap": {},
     "title": ""
    }
   },
   "outputs": [
    {
     "name": "stdout",
     "output_type": "stream",
     "text": [
      "abfss://bronze@dmodemoaccount123.dfs.core.windows.net/daily-pricing\n"
     ]
    }
   ],
   "source": [
    "dailyPricingSinkFolderPath=f\"abfss://{dailyPricingSinkLayerName}@{dailyPricingSinkStorageAccountName}.dfs.core.windows.net/{dailyPricingSinkFolderName}\"\n",
    "print(dailyPricingSinkFolderPath)\n",
    "#dailyPricingSparkDF.write.mode(\"overwrite\").csv(dailyPricingSinkFolderPath)\n",
    "\n",
    "(\n",
    "    dailyPricingSparkDF\n",
    "    .write\n",
    "    .mode(\"overwrite\")\n",
    "    .option(\"header\",\"true\")\n",
    "    .csv(dailyPricingSinkFolderPath)\n",
    ")"
   ]
  }
 ],
 "metadata": {
  "application/vnd.databricks.v1+notebook": {
   "computePreferences": null,
   "dashboards": [],
   "environmentMetadata": {
    "base_environment": "",
    "environment_version": "2"
   },
   "inputWidgetPreferences": null,
   "language": "python",
   "notebookMetadata": {
    "pythonIndentUnit": 4
   },
   "notebookName": "1-DATA-INGESTION-08-04 14:42:43",
   "widgets": {}
  },
  "language_info": {
   "name": "python"
  }
 },
 "nbformat": 4,
 "nbformat_minor": 0
}
